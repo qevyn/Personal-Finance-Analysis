{
 "cells": [
  {
   "cell_type": "code",
   "execution_count": 44,
   "id": "a0960cc8",
   "metadata": {},
   "outputs": [],
   "source": [
    "import pandas as pd\n",
    "import numpy as np\n",
    "import matplotlib.pyplot as plt"
   ]
  },
  {
   "cell_type": "code",
   "execution_count": 143,
   "id": "8e4ee82c",
   "metadata": {},
   "outputs": [],
   "source": [
    "credit = pd.read_csv('Chase_cc.csv')\n",
    "debit = pd.read_csv('Chase_debit.csv')"
   ]
  },
  {
   "cell_type": "code",
   "execution_count": 14,
   "id": "a829f517",
   "metadata": {},
   "outputs": [],
   "source": [
    "# drop columns that are not needed\n",
    "credit = credit.drop(['Post Date', 'Memo'], axis=1)"
   ]
  },
  {
   "cell_type": "code",
   "execution_count": 41,
   "id": "58316616",
   "metadata": {},
   "outputs": [
    {
     "data": {
      "text/html": [
       "<div>\n",
       "<style scoped>\n",
       "    .dataframe tbody tr th:only-of-type {\n",
       "        vertical-align: middle;\n",
       "    }\n",
       "\n",
       "    .dataframe tbody tr th {\n",
       "        vertical-align: top;\n",
       "    }\n",
       "\n",
       "    .dataframe thead th {\n",
       "        text-align: right;\n",
       "    }\n",
       "</style>\n",
       "<table border=\"1\" class=\"dataframe\">\n",
       "  <thead>\n",
       "    <tr style=\"text-align: right;\">\n",
       "      <th></th>\n",
       "      <th>Transaction Date</th>\n",
       "      <th>Description</th>\n",
       "      <th>Category</th>\n",
       "      <th>Type</th>\n",
       "      <th>Amount</th>\n",
       "    </tr>\n",
       "  </thead>\n",
       "  <tbody>\n",
       "    <tr>\n",
       "      <th>0</th>\n",
       "      <td>04/29/2022</td>\n",
       "      <td>ZSK*RZ RED 88 NOODLE P</td>\n",
       "      <td>Food &amp; Drink</td>\n",
       "      <td>Sale</td>\n",
       "      <td>-22.38</td>\n",
       "    </tr>\n",
       "    <tr>\n",
       "      <th>1</th>\n",
       "      <td>04/30/2022</td>\n",
       "      <td>RAISING CANES 0552</td>\n",
       "      <td>Food &amp; Drink</td>\n",
       "      <td>Sale</td>\n",
       "      <td>-25.85</td>\n",
       "    </tr>\n",
       "    <tr>\n",
       "      <th>2</th>\n",
       "      <td>04/28/2022</td>\n",
       "      <td>YARD HOUSE 0108373</td>\n",
       "      <td>Food &amp; Drink</td>\n",
       "      <td>Sale</td>\n",
       "      <td>-37.82</td>\n",
       "    </tr>\n",
       "    <tr>\n",
       "      <th>3</th>\n",
       "      <td>04/28/2022</td>\n",
       "      <td>SPECTRUM</td>\n",
       "      <td>Bills &amp; Utilities</td>\n",
       "      <td>Sale</td>\n",
       "      <td>-74.99</td>\n",
       "    </tr>\n",
       "    <tr>\n",
       "      <th>4</th>\n",
       "      <td>04/28/2022</td>\n",
       "      <td>YARD HOUSE 83700083733</td>\n",
       "      <td>Food &amp; Drink</td>\n",
       "      <td>Sale</td>\n",
       "      <td>-38.92</td>\n",
       "    </tr>\n",
       "  </tbody>\n",
       "</table>\n",
       "</div>"
      ],
      "text/plain": [
       "  Transaction Date             Description           Category  Type  Amount\n",
       "0       04/29/2022  ZSK*RZ RED 88 NOODLE P       Food & Drink  Sale  -22.38\n",
       "1       04/30/2022      RAISING CANES 0552       Food & Drink  Sale  -25.85\n",
       "2       04/28/2022      YARD HOUSE 0108373       Food & Drink  Sale  -37.82\n",
       "3       04/28/2022                SPECTRUM  Bills & Utilities  Sale  -74.99\n",
       "4       04/28/2022  YARD HOUSE 83700083733       Food & Drink  Sale  -38.92"
      ]
     },
     "execution_count": 41,
     "metadata": {},
     "output_type": "execute_result"
    }
   ],
   "source": [
    "credit.head()"
   ]
  },
  {
   "cell_type": "code",
   "execution_count": 16,
   "id": "78ce9d82",
   "metadata": {},
   "outputs": [
    {
     "data": {
      "text/plain": [
       "array(['Sale', 'Payment', 'Return', 'Adjustment'], dtype=object)"
      ]
     },
     "execution_count": 16,
     "metadata": {},
     "output_type": "execute_result"
    }
   ],
   "source": [
    "credit['Type'].unique()"
   ]
  },
  {
   "cell_type": "code",
   "execution_count": 17,
   "id": "03ba9143",
   "metadata": {},
   "outputs": [
    {
     "data": {
      "text/plain": [
       "array(['Food & Drink', 'Bills & Utilities', nan, 'Shopping',\n",
       "       'Health & Wellness', 'Travel', 'Professional Services',\n",
       "       'Groceries', 'Entertainment', 'Gas', 'Personal', 'Home',\n",
       "       'Fees & Adjustments'], dtype=object)"
      ]
     },
     "execution_count": 17,
     "metadata": {},
     "output_type": "execute_result"
    }
   ],
   "source": [
    "credit['Category'].unique()"
   ]
  },
  {
   "cell_type": "code",
   "execution_count": 67,
   "id": "50007063",
   "metadata": {},
   "outputs": [
    {
     "data": {
      "text/html": [
       "<div>\n",
       "<style scoped>\n",
       "    .dataframe tbody tr th:only-of-type {\n",
       "        vertical-align: middle;\n",
       "    }\n",
       "\n",
       "    .dataframe tbody tr th {\n",
       "        vertical-align: top;\n",
       "    }\n",
       "\n",
       "    .dataframe thead th {\n",
       "        text-align: right;\n",
       "    }\n",
       "</style>\n",
       "<table border=\"1\" class=\"dataframe\">\n",
       "  <thead>\n",
       "    <tr style=\"text-align: right;\">\n",
       "      <th></th>\n",
       "      <th>Date</th>\n",
       "      <th>Description</th>\n",
       "      <th>Category</th>\n",
       "      <th>Type</th>\n",
       "      <th>Amount</th>\n",
       "    </tr>\n",
       "  </thead>\n",
       "  <tbody>\n",
       "    <tr>\n",
       "      <th>0</th>\n",
       "      <td>2022-04-29</td>\n",
       "      <td>ZSK*RZ RED 88 NOODLE P</td>\n",
       "      <td>Food &amp; Drink</td>\n",
       "      <td>Sale</td>\n",
       "      <td>22.38</td>\n",
       "    </tr>\n",
       "    <tr>\n",
       "      <th>1</th>\n",
       "      <td>2022-04-30</td>\n",
       "      <td>RAISING CANES 0552</td>\n",
       "      <td>Food &amp; Drink</td>\n",
       "      <td>Sale</td>\n",
       "      <td>25.85</td>\n",
       "    </tr>\n",
       "    <tr>\n",
       "      <th>2</th>\n",
       "      <td>2022-04-28</td>\n",
       "      <td>YARD HOUSE 0108373</td>\n",
       "      <td>Food &amp; Drink</td>\n",
       "      <td>Sale</td>\n",
       "      <td>37.82</td>\n",
       "    </tr>\n",
       "    <tr>\n",
       "      <th>3</th>\n",
       "      <td>2022-04-28</td>\n",
       "      <td>SPECTRUM</td>\n",
       "      <td>Bills &amp; Utilities</td>\n",
       "      <td>Sale</td>\n",
       "      <td>74.99</td>\n",
       "    </tr>\n",
       "    <tr>\n",
       "      <th>4</th>\n",
       "      <td>2022-04-28</td>\n",
       "      <td>YARD HOUSE 83700083733</td>\n",
       "      <td>Food &amp; Drink</td>\n",
       "      <td>Sale</td>\n",
       "      <td>38.92</td>\n",
       "    </tr>\n",
       "  </tbody>\n",
       "</table>\n",
       "</div>"
      ],
      "text/plain": [
       "        Date             Description           Category  Type  Amount\n",
       "0 2022-04-29  ZSK*RZ RED 88 NOODLE P       Food & Drink  Sale   22.38\n",
       "1 2022-04-30      RAISING CANES 0552       Food & Drink  Sale   25.85\n",
       "2 2022-04-28      YARD HOUSE 0108373       Food & Drink  Sale   37.82\n",
       "3 2022-04-28                SPECTRUM  Bills & Utilities  Sale   74.99\n",
       "4 2022-04-28  YARD HOUSE 83700083733       Food & Drink  Sale   38.92"
      ]
     },
     "execution_count": 67,
     "metadata": {},
     "output_type": "execute_result"
    }
   ],
   "source": [
    "# focus on analyzing credit card usage under \"Sale\" type\n",
    "sale = credit.loc[credit.Type == 'Sale'].copy()\n",
    "\n",
    "# convert negative values to positive in \"Amount\" column\n",
    "sale['Amount'] = sale['Amount'].apply(lambda x: np.abs(x))\n",
    "\n",
    "# convert date to datetime and changing columnn name\n",
    "sale['Transaction Date'] = pd.to_datetime(sale['Transaction Date'])\n",
    "sale = sale.rename(columns={'Transaction Date':'Date'})\n",
    "\n",
    "sale.head()"
   ]
  },
  {
   "cell_type": "code",
   "execution_count": 58,
   "id": "ee31560b",
   "metadata": {},
   "outputs": [],
   "source": [
    "category_spend = sale[['Category', 'Amount']].groupby(['Category']).sum()\n",
    "category_spend = category_spend.reset_index()"
   ]
  },
  {
   "cell_type": "code",
   "execution_count": 60,
   "id": "f213cfbe",
   "metadata": {},
   "outputs": [
    {
     "data": {
      "image/png": "[encoded data removed]",
      "text/plain": [
       "<Figure size 432x288 with 1 Axes>"
      ]
     },
     "metadata": {
      "needs_background": "light"
     },
     "output_type": "display_data"
    }
   ],
   "source": [
    "plt.bar(category_spend.Category, category_spend.Amount)\n",
    "plt.xticks(rotation = 90)\n",
    "plt.ylabel('Amount ($)')\n",
    "plt.title('Spending Based on Category since 08/31/2021');"
   ]
  },
  {
   "cell_type": "code",
   "execution_count": 109,
   "id": "a34820e5",
   "metadata": {},
   "outputs": [],
   "source": [
    "df2 = sale.copy()\n",
    "df2['Date2'] = df2['Date'].dt.strftime('%m, %Y')\n",
    "byMonth = df2[['Date2', 'Amount']].groupby(['Date2']).sum()\n",
    "byMonth = byMonth.reset_index()\n",
    "byMonth['Month'] = pd.to_datetime(byMonth['Date2']).dt.month\n",
    "byMonth['Year'] = pd.to_datetime(byMonth['Date2']).dt.year\n",
    "byMonth = byMonth.sort_values(['Year', 'Month']).drop(['Month', 'Year'], axis=1)\n",
    "byMonth['Date2'] = pd.to_datetime(byMonth['Date2']).dt.strftime('%b, %Y')"
   ]
  },
  {
   "cell_type": "code",
   "execution_count": 114,
   "id": "df1ffbe3",
   "metadata": {},
   "outputs": [
    {
     "data": {
      "image/png": "[encoded data removed]",
      "text/plain": [
       "<Figure size 432x288 with 1 Axes>"
      ]
     },
     "metadata": {
      "needs_background": "light"
     },
     "output_type": "display_data"
    }
   ],
   "source": [
    "plt.plot(byMonth.Date2, byMonth.Amount, '-o')\n",
    "plt.xticks(rotation=45)\n",
    "plt.title('Spending by Month')\n",
    "plt.ylabel('Amount ($)');"
   ]
  },
  {
   "cell_type": "code",
   "execution_count": 118,
   "id": "d8c0a89d",
   "metadata": {},
   "outputs": [],
   "source": [
    "shopping = sale[sale['Category'] == 'Shopping'].copy()\n",
    "df3 = shopping.groupby(['Date']).sum()\n",
    "df3 = df3.reset_index()\n",
    "\n",
    "food_drink = sale[sale['Category'] == 'Food & Drink'].copy()\n",
    "df4 = food_drink.groupby(['Date']).sum()\n",
    "df4 = df4.reset_index()\n",
    "\n",
    "travel = sale[sale['Category'] == 'Travel'].copy()\n",
    "df5 = travel.groupby(['Date']).sum()\n",
    "df5 = df5.reset_index()"
   ]
  },
  {
   "cell_type": "code",
   "execution_count": 123,
   "id": "5941fafe",
   "metadata": {},
   "outputs": [
    {
     "data": {
      "image/png": "[encoded data removed]",
      "text/plain": [
       "<Figure size 1080x360 with 1 Axes>"
      ]
     },
     "metadata": {
      "needs_background": "light"
     },
     "output_type": "display_data"
    }
   ],
   "source": [
    "plt.figure(figsize=(15,5))\n",
    "plt.plot(shopping.Date, shopping.Amount, label='Shopping')\n",
    "plt.plot(food_drink.Date, food_drink.Amount, label='Food & Drink')\n",
    "plt.plot(travel.Date, travel.Amount, label='Travel')\n",
    "plt.ylabel('Amount ($)')\n",
    "plt.title('Spending Trend by Category')\n",
    "plt.legend();"
   ]
  },
  {
   "cell_type": "code",
   "execution_count": 144,
   "id": "8c4b7ae8",
   "metadata": {},
   "outputs": [
    {
     "data": {
      "text/html": [
       "<div>\n",
       "<style scoped>\n",
       "    .dataframe tbody tr th:only-of-type {\n",
       "        vertical-align: middle;\n",
       "    }\n",
       "\n",
       "    .dataframe tbody tr th {\n",
       "        vertical-align: top;\n",
       "    }\n",
       "\n",
       "    .dataframe thead th {\n",
       "        text-align: right;\n",
       "    }\n",
       "</style>\n",
       "<table border=\"1\" class=\"dataframe\">\n",
       "  <thead>\n",
       "    <tr style=\"text-align: right;\">\n",
       "      <th></th>\n",
       "      <th>Details</th>\n",
       "      <th>Posting Date</th>\n",
       "      <th>Description</th>\n",
       "      <th>Amount</th>\n",
       "      <th>Type</th>\n",
       "      <th>Balance</th>\n",
       "      <th>Check or Slip #</th>\n",
       "    </tr>\n",
       "  </thead>\n",
       "  <tbody>\n",
       "    <tr>\n",
       "      <th>DEBIT</th>\n",
       "      <td>05/02/2022</td>\n",
       "      <td>ONLINE PAYMENT 14251527782 TO ALA 0909 05/02</td>\n",
       "      <td>-423.81</td>\n",
       "      <td>LOAN_PMT</td>\n",
       "      <td></td>\n",
       "      <td>NaN</td>\n",
       "      <td>NaN</td>\n",
       "    </tr>\n",
       "    <tr>\n",
       "      <th>DEBIT</th>\n",
       "      <td>05/02/2022</td>\n",
       "      <td>ORIG CO NAME:VENMO            CO ENTRY DESCR:P...</td>\n",
       "      <td>-20.69</td>\n",
       "      <td>ACH_DEBIT</td>\n",
       "      <td></td>\n",
       "      <td>NaN</td>\n",
       "      <td>NaN</td>\n",
       "    </tr>\n",
       "    <tr>\n",
       "      <th>DEBIT</th>\n",
       "      <td>04/29/2022</td>\n",
       "      <td>Zelle payment to Leon Faynberg 14213115702</td>\n",
       "      <td>-748.00</td>\n",
       "      <td>QUICKPAY_DEBIT</td>\n",
       "      <td>8308.39</td>\n",
       "      <td>NaN</td>\n",
       "      <td>NaN</td>\n",
       "    </tr>\n",
       "    <tr>\n",
       "      <th>CREDIT</th>\n",
       "      <td>04/29/2022</td>\n",
       "      <td>VENMO            CASHOUT                    PP...</td>\n",
       "      <td>633.39</td>\n",
       "      <td>ACH_CREDIT</td>\n",
       "      <td>9056.39</td>\n",
       "      <td>NaN</td>\n",
       "      <td>NaN</td>\n",
       "    </tr>\n",
       "    <tr>\n",
       "      <th>CREDIT</th>\n",
       "      <td>04/29/2022</td>\n",
       "      <td>INTERPUBLIC GROU DIR DEP                    PP...</td>\n",
       "      <td>1921.43</td>\n",
       "      <td>ACH_CREDIT</td>\n",
       "      <td>8423.00</td>\n",
       "      <td>NaN</td>\n",
       "      <td>NaN</td>\n",
       "    </tr>\n",
       "  </tbody>\n",
       "</table>\n",
       "</div>"
      ],
      "text/plain": [
       "           Details                                       Posting Date  \\\n",
       "DEBIT   05/02/2022       ONLINE PAYMENT 14251527782 TO ALA 0909 05/02   \n",
       "DEBIT   05/02/2022  ORIG CO NAME:VENMO            CO ENTRY DESCR:P...   \n",
       "DEBIT   04/29/2022         Zelle payment to Leon Faynberg 14213115702   \n",
       "CREDIT  04/29/2022  VENMO            CASHOUT                    PP...   \n",
       "CREDIT  04/29/2022  INTERPUBLIC GROU DIR DEP                    PP...   \n",
       "\n",
       "        Description          Amount     Type  Balance  Check or Slip #  \n",
       "DEBIT       -423.81        LOAN_PMT               NaN              NaN  \n",
       "DEBIT        -20.69       ACH_DEBIT               NaN              NaN  \n",
       "DEBIT       -748.00  QUICKPAY_DEBIT  8308.39      NaN              NaN  \n",
       "CREDIT       633.39      ACH_CREDIT  9056.39      NaN              NaN  \n",
       "CREDIT      1921.43      ACH_CREDIT  8423.00      NaN              NaN  "
      ]
     },
     "execution_count": 144,
     "metadata": {},
     "output_type": "execute_result"
    }
   ],
   "source": [
    "# Pandas read the csv file incorrectly where the column names do not reflect their data\n",
    "debit.head()"
   ]
  },
  {
   "cell_type": "code",
   "execution_count": 180,
   "id": "d200a51f",
   "metadata": {},
   "outputs": [
    {
     "data": {
      "text/html": [
       "<div>\n",
       "<style scoped>\n",
       "    .dataframe tbody tr th:only-of-type {\n",
       "        vertical-align: middle;\n",
       "    }\n",
       "\n",
       "    .dataframe tbody tr th {\n",
       "        vertical-align: top;\n",
       "    }\n",
       "\n",
       "    .dataframe thead th {\n",
       "        text-align: right;\n",
       "    }\n",
       "</style>\n",
       "<table border=\"1\" class=\"dataframe\">\n",
       "  <thead>\n",
       "    <tr style=\"text-align: right;\">\n",
       "      <th></th>\n",
       "      <th>Details</th>\n",
       "      <th>Posting Date</th>\n",
       "      <th>Description</th>\n",
       "      <th>Amount</th>\n",
       "      <th>Type</th>\n",
       "      <th>Balance</th>\n",
       "    </tr>\n",
       "  </thead>\n",
       "  <tbody>\n",
       "    <tr>\n",
       "      <th>2</th>\n",
       "      <td>DEBIT</td>\n",
       "      <td>2022-04-29</td>\n",
       "      <td>Zelle payment to Leon Faynberg 14213115702</td>\n",
       "      <td>-748.00</td>\n",
       "      <td>QUICKPAY_DEBIT</td>\n",
       "      <td>8308.39</td>\n",
       "    </tr>\n",
       "    <tr>\n",
       "      <th>3</th>\n",
       "      <td>CREDIT</td>\n",
       "      <td>2022-04-29</td>\n",
       "      <td>VENMO            CASHOUT                    PP...</td>\n",
       "      <td>633.39</td>\n",
       "      <td>ACH_CREDIT</td>\n",
       "      <td>9056.39</td>\n",
       "    </tr>\n",
       "    <tr>\n",
       "      <th>4</th>\n",
       "      <td>CREDIT</td>\n",
       "      <td>2022-04-29</td>\n",
       "      <td>INTERPUBLIC GROU DIR DEP                    PP...</td>\n",
       "      <td>1921.43</td>\n",
       "      <td>ACH_CREDIT</td>\n",
       "      <td>8423.00</td>\n",
       "    </tr>\n",
       "    <tr>\n",
       "      <th>5</th>\n",
       "      <td>DEBIT</td>\n",
       "      <td>2022-04-28</td>\n",
       "      <td>Zelle payment to Leon Faynberg 14213112628</td>\n",
       "      <td>-2000.00</td>\n",
       "      <td>QUICKPAY_DEBIT</td>\n",
       "      <td>6501.57</td>\n",
       "    </tr>\n",
       "    <tr>\n",
       "      <th>6</th>\n",
       "      <td>DEBIT</td>\n",
       "      <td>2022-04-28</td>\n",
       "      <td>VENMO            PAYMENT    1019769459463   WE...</td>\n",
       "      <td>-54.00</td>\n",
       "      <td>ACH_DEBIT</td>\n",
       "      <td>8501.57</td>\n",
       "    </tr>\n",
       "    <tr>\n",
       "      <th>...</th>\n",
       "      <td>...</td>\n",
       "      <td>...</td>\n",
       "      <td>...</td>\n",
       "      <td>...</td>\n",
       "      <td>...</td>\n",
       "      <td>...</td>\n",
       "    </tr>\n",
       "    <tr>\n",
       "      <th>250</th>\n",
       "      <td>CREDIT</td>\n",
       "      <td>2021-09-15</td>\n",
       "      <td>OPT OUTSOURCING  PAYROLL                    PP...</td>\n",
       "      <td>1562.67</td>\n",
       "      <td>ACH_CREDIT</td>\n",
       "      <td>5554.49</td>\n",
       "    </tr>\n",
       "    <tr>\n",
       "      <th>251</th>\n",
       "      <td>CREDIT</td>\n",
       "      <td>2021-09-13</td>\n",
       "      <td>VENMO            CASHOUT                    PP...</td>\n",
       "      <td>221.00</td>\n",
       "      <td>ACH_CREDIT</td>\n",
       "      <td>3991.82</td>\n",
       "    </tr>\n",
       "    <tr>\n",
       "      <th>252</th>\n",
       "      <td>DEBIT</td>\n",
       "      <td>2021-09-07</td>\n",
       "      <td>CLAIREMONT AUTO SAN DIEGO CA                 0...</td>\n",
       "      <td>-26.93</td>\n",
       "      <td>DEBIT_CARD</td>\n",
       "      <td>3770.82</td>\n",
       "    </tr>\n",
       "    <tr>\n",
       "      <th>253</th>\n",
       "      <td>DEBIT</td>\n",
       "      <td>2021-09-02</td>\n",
       "      <td>Online Payment 12508527745 To ALA 0909 09/02</td>\n",
       "      <td>-423.81</td>\n",
       "      <td>LOAN_PMT</td>\n",
       "      <td>3797.75</td>\n",
       "    </tr>\n",
       "    <tr>\n",
       "      <th>254</th>\n",
       "      <td>DEBIT</td>\n",
       "      <td>2021-09-02</td>\n",
       "      <td>VENMO            PAYMENT    1015503836200   WE...</td>\n",
       "      <td>-1300.00</td>\n",
       "      <td>ACH_DEBIT</td>\n",
       "      <td>4221.56</td>\n",
       "    </tr>\n",
       "  </tbody>\n",
       "</table>\n",
       "<p>253 rows × 6 columns</p>\n",
       "</div>"
      ],
      "text/plain": [
       "    Details Posting Date                                        Description  \\\n",
       "2     DEBIT   2022-04-29         Zelle payment to Leon Faynberg 14213115702   \n",
       "3    CREDIT   2022-04-29  VENMO            CASHOUT                    PP...   \n",
       "4    CREDIT   2022-04-29  INTERPUBLIC GROU DIR DEP                    PP...   \n",
       "5     DEBIT   2022-04-28         Zelle payment to Leon Faynberg 14213112628   \n",
       "6     DEBIT   2022-04-28  VENMO            PAYMENT    1019769459463   WE...   \n",
       "..      ...          ...                                                ...   \n",
       "250  CREDIT   2021-09-15  OPT OUTSOURCING  PAYROLL                    PP...   \n",
       "251  CREDIT   2021-09-13  VENMO            CASHOUT                    PP...   \n",
       "252   DEBIT   2021-09-07  CLAIREMONT AUTO SAN DIEGO CA                 0...   \n",
       "253   DEBIT   2021-09-02       Online Payment 12508527745 To ALA 0909 09/02   \n",
       "254   DEBIT   2021-09-02  VENMO            PAYMENT    1015503836200   WE...   \n",
       "\n",
       "      Amount            Type  Balance  \n",
       "2    -748.00  QUICKPAY_DEBIT  8308.39  \n",
       "3     633.39      ACH_CREDIT  9056.39  \n",
       "4    1921.43      ACH_CREDIT  8423.00  \n",
       "5   -2000.00  QUICKPAY_DEBIT  6501.57  \n",
       "6     -54.00       ACH_DEBIT  8501.57  \n",
       "..       ...             ...      ...  \n",
       "250  1562.67      ACH_CREDIT  5554.49  \n",
       "251   221.00      ACH_CREDIT  3991.82  \n",
       "252   -26.93      DEBIT_CARD  3770.82  \n",
       "253  -423.81        LOAN_PMT  3797.75  \n",
       "254 -1300.00       ACH_DEBIT  4221.56  \n",
       "\n",
       "[253 rows x 6 columns]"
      ]
     },
     "execution_count": 180,
     "metadata": {},
     "output_type": "execute_result"
    }
   ],
   "source": [
    "debit_cleaned = debit.copy()\n",
    "debit_cleaned = debit_cleaned.reset_index()\n",
    "debit_cleaned = debit_cleaned.drop(['Check or Slip #'], axis=1)\n",
    "new_cols = debit_cleaned.columns[1:] # get names of columns in correct order\n",
    "debit_cleaned = debit_cleaned.drop(['Balance'], axis=1)\n",
    "debit_cleaned.columns = new_cols\n",
    "debit_cleaned['Posting Date'] = pd.to_datetime(debit_cleaned['Posting Date'])\n",
    "\n",
    "# replace empty cells with NaN\n",
    "debit_cleaned['Balance'] = debit_cleaned['Balance'].replace(' ', np.nan) \n",
    "\n",
    "# drop rows with missing balance values\n",
    "debit_cleaned = debit_cleaned.dropna() \n",
    "\n",
    "debit_cleaned['Balance'] = pd.to_numeric(debit_cleaned['Balance'])\n",
    "debit_cleaned"
   ]
  },
  {
   "cell_type": "code",
   "execution_count": 181,
   "id": "9ba36ead",
   "metadata": {},
   "outputs": [
    {
     "data": {
      "text/html": [
       "<div>\n",
       "<style scoped>\n",
       "    .dataframe tbody tr th:only-of-type {\n",
       "        vertical-align: middle;\n",
       "    }\n",
       "\n",
       "    .dataframe tbody tr th {\n",
       "        vertical-align: top;\n",
       "    }\n",
       "\n",
       "    .dataframe thead th {\n",
       "        text-align: right;\n",
       "    }\n",
       "</style>\n",
       "<table border=\"1\" class=\"dataframe\">\n",
       "  <thead>\n",
       "    <tr style=\"text-align: right;\">\n",
       "      <th></th>\n",
       "      <th>Posting Date</th>\n",
       "      <th>Balance</th>\n",
       "    </tr>\n",
       "  </thead>\n",
       "  <tbody>\n",
       "    <tr>\n",
       "      <th>0</th>\n",
       "      <td>2021-09-02</td>\n",
       "      <td>3797.75</td>\n",
       "    </tr>\n",
       "    <tr>\n",
       "      <th>1</th>\n",
       "      <td>2021-09-07</td>\n",
       "      <td>3770.82</td>\n",
       "    </tr>\n",
       "    <tr>\n",
       "      <th>2</th>\n",
       "      <td>2021-09-13</td>\n",
       "      <td>3991.82</td>\n",
       "    </tr>\n",
       "    <tr>\n",
       "      <th>3</th>\n",
       "      <td>2021-09-15</td>\n",
       "      <td>5554.49</td>\n",
       "    </tr>\n",
       "    <tr>\n",
       "      <th>4</th>\n",
       "      <td>2021-09-20</td>\n",
       "      <td>5832.09</td>\n",
       "    </tr>\n",
       "    <tr>\n",
       "      <th>...</th>\n",
       "      <td>...</td>\n",
       "      <td>...</td>\n",
       "    </tr>\n",
       "    <tr>\n",
       "      <th>110</th>\n",
       "      <td>2022-04-25</td>\n",
       "      <td>8150.30</td>\n",
       "    </tr>\n",
       "    <tr>\n",
       "      <th>111</th>\n",
       "      <td>2022-04-26</td>\n",
       "      <td>7850.80</td>\n",
       "    </tr>\n",
       "    <tr>\n",
       "      <th>112</th>\n",
       "      <td>2022-04-27</td>\n",
       "      <td>7295.57</td>\n",
       "    </tr>\n",
       "    <tr>\n",
       "      <th>113</th>\n",
       "      <td>2022-04-28</td>\n",
       "      <td>6501.57</td>\n",
       "    </tr>\n",
       "    <tr>\n",
       "      <th>114</th>\n",
       "      <td>2022-04-29</td>\n",
       "      <td>8308.39</td>\n",
       "    </tr>\n",
       "  </tbody>\n",
       "</table>\n",
       "<p>115 rows × 2 columns</p>\n",
       "</div>"
      ],
      "text/plain": [
       "    Posting Date  Balance\n",
       "0     2021-09-02  3797.75\n",
       "1     2021-09-07  3770.82\n",
       "2     2021-09-13  3991.82\n",
       "3     2021-09-15  5554.49\n",
       "4     2021-09-20  5832.09\n",
       "..           ...      ...\n",
       "110   2022-04-25  8150.30\n",
       "111   2022-04-26  7850.80\n",
       "112   2022-04-27  7295.57\n",
       "113   2022-04-28  6501.57\n",
       "114   2022-04-29  8308.39\n",
       "\n",
       "[115 rows x 2 columns]"
      ]
     },
     "execution_count": 181,
     "metadata": {},
     "output_type": "execute_result"
    }
   ],
   "source": [
    "df6 = debit_cleaned[['Posting Date', 'Balance']].groupby(['Posting Date']).first().reset_index()\n",
    "df6"
   ]
  },
  {
   "cell_type": "code",
   "execution_count": 186,
   "id": "a0b28445",
   "metadata": {},
   "outputs": [
    {
     "data": {
      "image/png": "[encoded data removed]",
      "text/plain": [
       "<Figure size 1080x360 with 1 Axes>"
      ]
     },
     "metadata": {
      "needs_background": "light"
     },
     "output_type": "display_data"
    }
   ],
   "source": [
    "plt.figure(figsize=(15, 5))\n",
    "plt.plot(df6['Posting Date'], df6.Balance)\n",
    "plt.title('Bank Balance Since Started 1st Job Out Of College')\n",
    "plt.ylabel('Amount ($)');"
   ]
  },
  {
   "cell_type": "code",
   "execution_count": 325,
   "id": "bcea60ce",
   "metadata": {},
   "outputs": [],
   "source": [
    "pattern1 = r'PAYROLL|INTERPUBLIC' # regex pattern for income from jobs \n",
    "pattern2 = r'Leon Faynberg|Payment|CITI' # regex pattern for rent, credit card/car payments\n",
    "pattern3 = r'VENMO' # regex pattern for Venmo\n",
    "pattern4 = r'Zelle payment from' # regex pattern for zelle payments received\n",
    "\n",
    "income = debit_cleaned[debit_cleaned.Description.str.contains(pattern1)]\n",
    "payment = debit_cleaned[debit_cleaned.Description.str.contains(pattern2)]\n",
    "venmo = debit_cleaned[debit_cleaned.Description.str.contains(pattern3)]\n",
    "zelle_received = debit_cleaned[debit_cleaned.Description.str.contains(pattern4)]"
   ]
  },
  {
   "cell_type": "code",
   "execution_count": 326,
   "id": "035fc94b",
   "metadata": {},
   "outputs": [],
   "source": [
    "payment_total = payment[['Type', 'Amount']].groupby('Type').sum()\n",
    "chase_payment = np.abs(payment_total.loc['ACCT_XFER'][0])\n",
    "citi_payment = np.abs(payment_total.loc['ACH_DEBIT'][0])\n",
    "rent = np.abs(payment_total.loc['QUICKPAY_DEBIT'][0])\n",
    "car_payment = np.abs(payment_total.loc['LOAN_PMT'][0])\n",
    "\n",
    "total_income = round(sum(income['Amount']), 2)\n",
    "\n",
    "venmo_total = venmo[['Type', 'Amount']].groupby('Type').sum()\n",
    "venmo_payment = np.abs(venmo_total.loc['ACH_DEBIT'][0] + venmo_total.loc['DEBIT_CARD'][0])\n",
    "venmo_cashout = venmo_total.loc['ACH_CREDIT'][0]\n",
    "\n",
    "zelle_rtotal = round(sum(zelle_received['Amount']), 2)"
   ]
  },
  {
   "cell_type": "code",
   "execution_count": 327,
   "id": "2e0d16bc",
   "metadata": {},
   "outputs": [
    {
     "name": "stdout",
     "output_type": "stream",
     "text": [
      "Income since graduating college: $26430.19\n",
      "Amount paid for Chase credit card: $11609.66\n",
      "Amount paid for Citi credit card: $8160.51\n",
      "Amount paid for rent: $19144.4\n",
      "Amount paid for car loan: $3390.48\n",
      "Amount paid on Venmo: $3756.15\n",
      "Amount cashout on Venmo: $17678.64\n",
      "Amount received on Zelle: $8823.0\n"
     ]
    }
   ],
   "source": [
    "print('Income since graduating college: ${}'.format(total_income))\n",
    "print('Amount paid for Chase credit card: ${}'.format(chase_payment))\n",
    "print('Amount paid for Citi credit card: ${}'.format(citi_payment))\n",
    "print('Amount paid for rent: ${}'.format(rent))\n",
    "print('Amount paid for car loan: ${}'.format(car_payment))\n",
    "print('Amount paid on Venmo: ${}'.format(venmo_payment))\n",
    "print('Amount cashout on Venmo: ${}'.format(venmo_cashout))\n",
    "print('Amount received on Zelle: ${}'.format(zelle_rtotal))"
   ]
  },
  {
   "cell_type": "code",
   "execution_count": 341,
   "id": "9bd4d042",
   "metadata": {},
   "outputs": [],
   "source": [
    "import datetime as dt\n",
    "\n",
    "debit_cleaned['Date'] = debit_cleaned['Posting Date'].map(dt.datetime.toordinal)"
   ]
  },
  {
   "cell_type": "code",
   "execution_count": 352,
   "id": "399405d6",
   "metadata": {},
   "outputs": [
    {
     "data": {
      "text/plain": [
       "Index(['Amount', 'Balance', 'Date', 'ACCT_XFER', 'ACH_CREDIT', 'ACH_DEBIT',\n",
       "       'ATM', 'CHASE_TO_PARTNERFI', 'CHECK_DEPOSIT', 'DEBIT_CARD',\n",
       "       'FEE_TRANSACTION', 'LOAN_PMT', 'MISC_CREDIT', 'MISC_DEBIT',\n",
       "       'PARTNERFI_TO_CHASE', 'QUICKPAY_CREDIT', 'QUICKPAY_DEBIT'],\n",
       "      dtype='object')"
      ]
     },
     "execution_count": 352,
     "metadata": {},
     "output_type": "execute_result"
    }
   ],
   "source": [
    "one_hot = pd.get_dummies(debit_cleaned['Type'])\n",
    "mdf = pd.concat([debit_cleaned, one_hot], axis=1)\n",
    "mdf = mdf.drop(['Details', 'Description', 'Posting Date', 'Type'], axis=1)\n",
    "mdf.columns"
   ]
  },
  {
   "cell_type": "code",
   "execution_count": 370,
   "id": "af029c9d",
   "metadata": {},
   "outputs": [
    {
     "data": {
      "text/html": [
       "<div>\n",
       "<style scoped>\n",
       "    .dataframe tbody tr th:only-of-type {\n",
       "        vertical-align: middle;\n",
       "    }\n",
       "\n",
       "    .dataframe tbody tr th {\n",
       "        vertical-align: top;\n",
       "    }\n",
       "\n",
       "    .dataframe thead th {\n",
       "        text-align: right;\n",
       "    }\n",
       "</style>\n",
       "<table border=\"1\" class=\"dataframe\">\n",
       "  <thead>\n",
       "    <tr style=\"text-align: right;\">\n",
       "      <th></th>\n",
       "      <th>Details</th>\n",
       "      <th>Posting Date</th>\n",
       "      <th>Description</th>\n",
       "      <th>Amount</th>\n",
       "      <th>Type</th>\n",
       "      <th>Balance</th>\n",
       "      <th>Date</th>\n",
       "      <th>Type One Hot</th>\n",
       "    </tr>\n",
       "  </thead>\n",
       "  <tbody>\n",
       "    <tr>\n",
       "      <th>2</th>\n",
       "      <td>DEBIT</td>\n",
       "      <td>2022-04-29</td>\n",
       "      <td>Zelle payment to Leon Faynberg 14213115702</td>\n",
       "      <td>-748.00</td>\n",
       "      <td>QUICKPAY_DEBIT</td>\n",
       "      <td>8308.39</td>\n",
       "      <td>738274</td>\n",
       "      <td>0</td>\n",
       "    </tr>\n",
       "    <tr>\n",
       "      <th>3</th>\n",
       "      <td>CREDIT</td>\n",
       "      <td>2022-04-29</td>\n",
       "      <td>VENMO            CASHOUT                    PP...</td>\n",
       "      <td>633.39</td>\n",
       "      <td>ACH_CREDIT</td>\n",
       "      <td>9056.39</td>\n",
       "      <td>738274</td>\n",
       "      <td>1</td>\n",
       "    </tr>\n",
       "    <tr>\n",
       "      <th>4</th>\n",
       "      <td>CREDIT</td>\n",
       "      <td>2022-04-29</td>\n",
       "      <td>INTERPUBLIC GROU DIR DEP                    PP...</td>\n",
       "      <td>1921.43</td>\n",
       "      <td>ACH_CREDIT</td>\n",
       "      <td>8423.00</td>\n",
       "      <td>738274</td>\n",
       "      <td>1</td>\n",
       "    </tr>\n",
       "    <tr>\n",
       "      <th>5</th>\n",
       "      <td>DEBIT</td>\n",
       "      <td>2022-04-28</td>\n",
       "      <td>Zelle payment to Leon Faynberg 14213112628</td>\n",
       "      <td>-2000.00</td>\n",
       "      <td>QUICKPAY_DEBIT</td>\n",
       "      <td>6501.57</td>\n",
       "      <td>738273</td>\n",
       "      <td>0</td>\n",
       "    </tr>\n",
       "    <tr>\n",
       "      <th>6</th>\n",
       "      <td>DEBIT</td>\n",
       "      <td>2022-04-28</td>\n",
       "      <td>VENMO            PAYMENT    1019769459463   WE...</td>\n",
       "      <td>-54.00</td>\n",
       "      <td>ACH_DEBIT</td>\n",
       "      <td>8501.57</td>\n",
       "      <td>738273</td>\n",
       "      <td>0</td>\n",
       "    </tr>\n",
       "    <tr>\n",
       "      <th>...</th>\n",
       "      <td>...</td>\n",
       "      <td>...</td>\n",
       "      <td>...</td>\n",
       "      <td>...</td>\n",
       "      <td>...</td>\n",
       "      <td>...</td>\n",
       "      <td>...</td>\n",
       "      <td>...</td>\n",
       "    </tr>\n",
       "    <tr>\n",
       "      <th>250</th>\n",
       "      <td>CREDIT</td>\n",
       "      <td>2021-09-15</td>\n",
       "      <td>OPT OUTSOURCING  PAYROLL                    PP...</td>\n",
       "      <td>1562.67</td>\n",
       "      <td>ACH_CREDIT</td>\n",
       "      <td>5554.49</td>\n",
       "      <td>738048</td>\n",
       "      <td>1</td>\n",
       "    </tr>\n",
       "    <tr>\n",
       "      <th>251</th>\n",
       "      <td>CREDIT</td>\n",
       "      <td>2021-09-13</td>\n",
       "      <td>VENMO            CASHOUT                    PP...</td>\n",
       "      <td>221.00</td>\n",
       "      <td>ACH_CREDIT</td>\n",
       "      <td>3991.82</td>\n",
       "      <td>738046</td>\n",
       "      <td>1</td>\n",
       "    </tr>\n",
       "    <tr>\n",
       "      <th>252</th>\n",
       "      <td>DEBIT</td>\n",
       "      <td>2021-09-07</td>\n",
       "      <td>CLAIREMONT AUTO SAN DIEGO CA                 0...</td>\n",
       "      <td>-26.93</td>\n",
       "      <td>DEBIT_CARD</td>\n",
       "      <td>3770.82</td>\n",
       "      <td>738040</td>\n",
       "      <td>0</td>\n",
       "    </tr>\n",
       "    <tr>\n",
       "      <th>253</th>\n",
       "      <td>DEBIT</td>\n",
       "      <td>2021-09-02</td>\n",
       "      <td>Online Payment 12508527745 To ALA 0909 09/02</td>\n",
       "      <td>-423.81</td>\n",
       "      <td>LOAN_PMT</td>\n",
       "      <td>3797.75</td>\n",
       "      <td>738035</td>\n",
       "      <td>0</td>\n",
       "    </tr>\n",
       "    <tr>\n",
       "      <th>254</th>\n",
       "      <td>DEBIT</td>\n",
       "      <td>2021-09-02</td>\n",
       "      <td>VENMO            PAYMENT    1015503836200   WE...</td>\n",
       "      <td>-1300.00</td>\n",
       "      <td>ACH_DEBIT</td>\n",
       "      <td>4221.56</td>\n",
       "      <td>738035</td>\n",
       "      <td>0</td>\n",
       "    </tr>\n",
       "  </tbody>\n",
       "</table>\n",
       "<p>253 rows × 8 columns</p>\n",
       "</div>"
      ],
      "text/plain": [
       "    Details Posting Date                                        Description  \\\n",
       "2     DEBIT   2022-04-29         Zelle payment to Leon Faynberg 14213115702   \n",
       "3    CREDIT   2022-04-29  VENMO            CASHOUT                    PP...   \n",
       "4    CREDIT   2022-04-29  INTERPUBLIC GROU DIR DEP                    PP...   \n",
       "5     DEBIT   2022-04-28         Zelle payment to Leon Faynberg 14213112628   \n",
       "6     DEBIT   2022-04-28  VENMO            PAYMENT    1019769459463   WE...   \n",
       "..      ...          ...                                                ...   \n",
       "250  CREDIT   2021-09-15  OPT OUTSOURCING  PAYROLL                    PP...   \n",
       "251  CREDIT   2021-09-13  VENMO            CASHOUT                    PP...   \n",
       "252   DEBIT   2021-09-07  CLAIREMONT AUTO SAN DIEGO CA                 0...   \n",
       "253   DEBIT   2021-09-02       Online Payment 12508527745 To ALA 0909 09/02   \n",
       "254   DEBIT   2021-09-02  VENMO            PAYMENT    1015503836200   WE...   \n",
       "\n",
       "      Amount            Type  Balance    Date  Type One Hot  \n",
       "2    -748.00  QUICKPAY_DEBIT  8308.39  738274             0  \n",
       "3     633.39      ACH_CREDIT  9056.39  738274             1  \n",
       "4    1921.43      ACH_CREDIT  8423.00  738274             1  \n",
       "5   -2000.00  QUICKPAY_DEBIT  6501.57  738273             0  \n",
       "6     -54.00       ACH_DEBIT  8501.57  738273             0  \n",
       "..       ...             ...      ...     ...           ...  \n",
       "250  1562.67      ACH_CREDIT  5554.49  738048             1  \n",
       "251   221.00      ACH_CREDIT  3991.82  738046             1  \n",
       "252   -26.93      DEBIT_CARD  3770.82  738040             0  \n",
       "253  -423.81        LOAN_PMT  3797.75  738035             0  \n",
       "254 -1300.00       ACH_DEBIT  4221.56  738035             0  \n",
       "\n",
       "[253 rows x 8 columns]"
      ]
     },
     "execution_count": 370,
     "metadata": {},
     "output_type": "execute_result"
    }
   ],
   "source": [
    "money_out = ['ACCT_XFER', 'ACH_DEBIT', 'CHASE_TO_PARTNERFI', 'DEBIT_CARD', 'FEE_TRANSACTION', 'LOAN_PMT', 'MISC_DEBIT', 'QUICKPAY_DEBIT']\n",
    "money_in = ['ATM', 'ACH_CREDIT', 'PARTNERFI_TO_CHASE', 'CHECK_DEPOSIT', 'MISC_CREDIT', 'QUICKPAY_CREDIT']\n",
    "\n",
    "mdf2 = debit_cleaned.copy()\n",
    "mdf2['Type One Hot'] = mdf2['Type'].apply(lambda x: 1 if x in money_in else 0)\n",
    "mdf2"
   ]
  },
  {
   "cell_type": "code",
   "execution_count": 353,
   "id": "02d364f0",
   "metadata": {},
   "outputs": [
    {
     "name": "stdout",
     "output_type": "stream",
     "text": [
      "Train:  (202, 17) Test:  (51, 17)\n"
     ]
    }
   ],
   "source": [
    "from sklearn.linear_model import LinearRegression\n",
    "from sklearn.model_selection import train_test_split\n",
    "\n",
    "model = LinearRegression()\n",
    "train, test = train_test_split(mdf, test_size=0.2, train_size=0.8, random_state=42)\n",
    "print('Train: ', train.shape, 'Test: ', test.shape)"
   ]
  },
  {
   "cell_type": "code",
   "execution_count": 393,
   "id": "45f7f494",
   "metadata": {},
   "outputs": [],
   "source": [
    "def rmse(errors):\n",
    "    return np.sqrt(np.mean(errors**2))"
   ]
  },
  {
   "cell_type": "code",
   "execution_count": 394,
   "id": "39a0da7b",
   "metadata": {},
   "outputs": [
    {
     "data": {
      "text/plain": [
       "2681.7713564433566"
      ]
     },
     "execution_count": 394,
     "metadata": {},
     "output_type": "execute_result"
    }
   ],
   "source": [
    "train_X = train[['Amount', 'Date', 'ACCT_XFER', 'ACH_CREDIT', 'ACH_DEBIT',\n",
    "       'ATM', 'CHASE_TO_PARTNERFI', 'CHECK_DEPOSIT', 'DEBIT_CARD',\n",
    "       'FEE_TRANSACTION', 'LOAN_PMT', 'MISC_CREDIT', 'MISC_DEBIT',\n",
    "       'PARTNERFI_TO_CHASE', 'QUICKPAY_CREDIT', 'QUICKPAY_DEBIT']].to_numpy()\n",
    "test_X = test[['Amount', 'Date', 'ACCT_XFER', 'ACH_CREDIT', 'ACH_DEBIT',\n",
    "       'ATM', 'CHASE_TO_PARTNERFI', 'CHECK_DEPOSIT', 'DEBIT_CARD',\n",
    "       'FEE_TRANSACTION', 'LOAN_PMT', 'MISC_CREDIT', 'MISC_DEBIT',\n",
    "       'PARTNERFI_TO_CHASE', 'QUICKPAY_CREDIT', 'QUICKPAY_DEBIT']].to_numpy()\n",
    "train_Y = train['Balance'].to_numpy()\n",
    "test_Y = test['Balance'].to_numpy()\n",
    "\n",
    "model.fit(train_X, train_Y)\n",
    "pred_Y = model.predict(test_X)\n",
    "rmse = rmse(test_Y - pred_Y)\n",
    "rmse"
   ]
  },
  {
   "cell_type": "code",
   "execution_count": 395,
   "id": "f0f02126",
   "metadata": {},
   "outputs": [
    {
     "data": {
      "text/plain": [
       "0.27507578332404636"
      ]
     },
     "execution_count": 395,
     "metadata": {},
     "output_type": "execute_result"
    }
   ],
   "source": [
    "model.score(train_X, train_Y)"
   ]
  },
  {
   "cell_type": "code",
   "execution_count": 371,
   "id": "79f4fb4f",
   "metadata": {},
   "outputs": [
    {
     "name": "stdout",
     "output_type": "stream",
     "text": [
      "Train:  (202, 8) Test:  (51, 8)\n"
     ]
    }
   ],
   "source": [
    "model2 = LinearRegression()\n",
    "train2, test2 = train_test_split(mdf2, train_size=0.8, test_size=0.2, random_state=42)\n",
    "print('Train: ', train2.shape, 'Test: ', test2.shape)"
   ]
  },
  {
   "cell_type": "code",
   "execution_count": 382,
   "id": "b40ed590",
   "metadata": {},
   "outputs": [
    {
     "data": {
      "text/plain": [
       "2781.5044108832817"
      ]
     },
     "execution_count": 382,
     "metadata": {},
     "output_type": "execute_result"
    }
   ],
   "source": [
    "train2_X = train2[['Amount', 'Date', 'Type One Hot']].to_numpy()\n",
    "train2_Y = train2['Balance'].to_numpy()\n",
    "test2_X = test2[['Amount', 'Date', 'Type One Hot']].to_numpy()\n",
    "test2_Y = test2['Balance'].to_numpy()\n",
    "\n",
    "model2.fit(train2_X, train2_Y)\n",
    "pred2_Y = model2.predict(test2_X)\n",
    "rmse2 = rmse(test2_Y - pred2_Y)\n",
    "rmse2"
   ]
  },
  {
   "cell_type": "code",
   "execution_count": 383,
   "id": "a8567b24",
   "metadata": {},
   "outputs": [
    {
     "data": {
      "text/plain": [
       "0.20227114467160712"
      ]
     },
     "execution_count": 383,
     "metadata": {},
     "output_type": "execute_result"
    }
   ],
   "source": [
    "model2.score(train2_X, train2_Y)"
   ]
  },
  {
   "cell_type": "code",
   "execution_count": 389,
   "id": "1e89e109",
   "metadata": {},
   "outputs": [
    {
     "data": {
      "text/plain": [
       "0.031141060023352818"
      ]
     },
     "execution_count": 389,
     "metadata": {},
     "output_type": "execute_result"
    }
   ],
   "source": [
    "model3 = LinearRegression()\n",
    "train3_X = train2['Amount'].values.reshape(-1,1)\n",
    "\n",
    "model3.fit(train3_X, train2_Y)\n",
    "model3.score(train3_X, train2_Y)"
   ]
  }
 ],
 "metadata": {
  "kernelspec": {
   "display_name": "Python 3 (ipykernel)",
   "language": "python",
   "name": "python3"
  },
  "language_info": {
   "codemirror_mode": {
    "name": "ipython",
    "version": 3
   },
   "file_extension": ".py",
   "mimetype": "text/x-python",
   "name": "python",
   "nbconvert_exporter": "python",
   "pygments_lexer": "ipython3",
   "version": "3.9.7"
  }
 },
 "nbformat": 4,
 "nbformat_minor": 5
}
